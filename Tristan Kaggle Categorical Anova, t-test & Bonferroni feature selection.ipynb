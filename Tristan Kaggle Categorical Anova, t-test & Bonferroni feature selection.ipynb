{
 "cells": [
  {
   "cell_type": "code",
   "execution_count": 700,
   "metadata": {},
   "outputs": [],
   "source": [
    "import pandas as pd\n",
    "import numpy as np\n",
    "import seaborn as sns\n",
    "import datetime as dt\n",
    "import random as rn\n",
    "import matplotlib.pyplot as plt"
   ]
  },
  {
   "cell_type": "code",
   "execution_count": 593,
   "metadata": {},
   "outputs": [],
   "source": [
    "data = pd.read_csv('Train_Kaggle_Data_11_12PM.csv')\n",
    "data['MSSubClass'] = data['MSSubClass'].astype(str)\n",
    "data['OverallQual'] = data['OverallQual'].astype(str)\n",
    "data['OverallCond'] = data['OverallCond'].astype(str)"
   ]
  },
  {
   "cell_type": "code",
   "execution_count": 541,
   "metadata": {},
   "outputs": [],
   "source": [
    "features.reset_index(inplace=True)"
   ]
  },
  {
   "cell_type": "code",
   "execution_count": 543,
   "metadata": {},
   "outputs": [],
   "source": [
    "#MasVnrType\n",
    "import scipy.stats as stats"
   ]
  },
  {
   "cell_type": "code",
   "execution_count": 786,
   "metadata": {},
   "outputs": [
    {
     "name": "stderr",
     "output_type": "stream",
     "text": [
      "C:\\Users\\trist\\Desktop\\CondaFile\\lib\\site-packages\\numpy\\core\\fromnumeric.py:3157: RuntimeWarning: Degrees of freedom <= 0 for slice\n",
      "  **kwargs)\n",
      "C:\\Users\\trist\\Desktop\\CondaFile\\lib\\site-packages\\numpy\\core\\_methods.py:132: RuntimeWarning: invalid value encountered in double_scalars\n",
      "  ret = ret.dtype.type(ret / rcount)\n",
      "C:\\Users\\trist\\Desktop\\CondaFile\\lib\\site-packages\\scipy\\stats\\_distn_infrastructure.py:879: RuntimeWarning: invalid value encountered in greater\n",
      "  return (self.a < x) & (x < self.b)\n",
      "C:\\Users\\trist\\Desktop\\CondaFile\\lib\\site-packages\\scipy\\stats\\_distn_infrastructure.py:879: RuntimeWarning: invalid value encountered in less\n",
      "  return (self.a < x) & (x < self.b)\n",
      "C:\\Users\\trist\\Desktop\\CondaFile\\lib\\site-packages\\scipy\\stats\\_distn_infrastructure.py:1821: RuntimeWarning: invalid value encountered in less_equal\n",
      "  cond2 = cond0 & (x <= self.a)\n"
     ]
    }
   ],
   "source": [
    "pairs = []\n",
    "cats = []\n",
    "sum_ = 0\n",
    "for cat in cat_var:\n",
    "    \n",
    "    category = data[cat]\n",
    "    uniq_lvls = list(set(category))\n",
    "    Price_lvls = list(range(len(uniq_lvls)))\n",
    "    \n",
    "    for level in range(len(uniq_lvls)): #create a list with all the Sales Prices per level = Price_lvls\n",
    "        Price_lvls[level] = list(data[category == uniq_lvls[level]]['SalePrice'])\n",
    "    \n",
    "    if stats.f_oneway(*Price_lvls).pvalue < 0.05: #making sure the category is significant \n",
    "    \n",
    "        Bonferroni = len(uniq_lvls) #coeff to divide alpha by\n",
    "    \n",
    "        for i in range(len(uniq_lvls)-1): #retain all pairs that are significant when performing a t test\n",
    "            for l in range(i+1,len(uniq_lvls)):\n",
    "                if stats.ttest_ind(Price_lvls[i],Price_lvls[l]).pvalue < 0.05/Bonferroni:\n",
    "                    pairs.append(cat + '_' + uniq_lvls[i])\n",
    "                    cats.append(cat + '_' + uniq_lvls[i])\n",
    "                    cats.append(cat)\n",
    "                    \n",
    "factors_to_keep = []\n",
    "unique_pairs = set(pairs)\n",
    "for i in unique_pairs:\n",
    "    for cat in cat_var:\n",
    "        if cat in i:\n",
    "            nb = cats.count(cat)\n",
    "            nb = 0.2 * nb\n",
    "            if pairs.count(i)>nb:\n",
    "                factors_to_keep.append(i)\n",
    "len(factors_to_keep) #112 factors are significant  \n",
    "    \n",
    "\n",
    "\n",
    "\n",
    "#obtain a data set with all the significant factors to be used to identify highest frquency dummies to be dropped     \n",
    "all_col = list(data.columns) + factors_to_keep\n",
    "col_keep = list(set(all_col) - set(cat_var))\n",
    "data3 = pd.get_dummies(data)\n",
    "filter_col = [col for col in data3 if col in col_keep]\n",
    "data3 = data3[filter_col]\n",
    "\n",
    "\n",
    "#find, per category, if there are more than two significant levels in that category, which level has the highest count\n",
    "#to eliminate it for proper dummification\n",
    "\n",
    "M =[]\n",
    "for category in cat_var:\n",
    "    L= []\n",
    "    \n",
    "    sum_ = 0\n",
    "    for subset in range(len(filter_col)):\n",
    "        sum_ += filter_col[subset].count(category)\n",
    "    \n",
    "    if sum_ > 1:\n",
    "        for subset in range(len(filter_col)):\n",
    "            if category in filter_col[subset]:\n",
    "                L = L + list([filter_col[subset]])\n",
    "                \n",
    "        N = list(range(len(L)))\n",
    "    \n",
    "        for feature in range(len(L)):\n",
    "            N[feature] = sum(data3[L[feature]])\n",
    "        m = max(N)\n",
    "        M += list([L[N.index(m)]])\n",
    "\n",
    "#we wanted to substract the list of factors in M, from the set of all significant factors"
   ]
  },
  {
   "cell_type": "code",
   "execution_count": 788,
   "metadata": {},
   "outputs": [],
   "source": [
    "cont_var = list(['LotFrontage','LotArea','YearBuilt','YearRemodAdd','MasVnrArea','BsmtFinSF1','BsmtUnfSF','TotalBsmtSF','1stFlrSF','2ndFlrSF','GrLivArea','BsmtFullBath','FullBath','HalfBath','BedroomAbvGr','KitchenAbvGr','TotRmsAbvGrd','Fireplaces','GarageYrBlt','GarageCars','GarageArea','WoodDeckSF','OpenPorchSF','EnclosedPorch','ScreenPorch','PoolArea'])\n",
    "\n",
    "categ_var = list(set(factors_to_keep) - set(M)) #unique significant levels - levels with highest frequency\n",
    "\n",
    "factors_kept = cont_var + categ_var + list(['SalePrice'])\n",
    "\n",
    "subset_factors = pd.get_dummies(data)\n",
    "\n",
    "filter1 = [col for col in subset_factors if col in factors_kept]\n",
    "\n",
    "data_factors_kept = subset_factors[filter1]\n",
    "\n",
    "data_factors_kept.to_csv('Factor_Selection_F_Reg_Anova.csv')"
   ]
  },
  {
   "cell_type": "code",
   "execution_count": 789,
   "metadata": {},
   "outputs": [
    {
     "data": {
      "text/plain": [
       "['BsmtCond_Not_Avail',\n",
       " 'LotConfig_CulDSac',\n",
       " 'SaleCondition_Partial',\n",
       " 'GarageQual_Fa',\n",
       " 'GarageFinish_RFn',\n",
       " 'MasVnrType_Stone',\n",
       " 'MSZoning_FV',\n",
       " 'ExterCond_Fa',\n",
       " 'BsmtExposure_Gd',\n",
       " 'CentralAir_N',\n",
       " 'Heating_Wall',\n",
       " 'BsmtFinType1_ALQ',\n",
       " 'RoofMatl_WdShngl',\n",
       " 'Heating_Grav',\n",
       " 'KitchenQual_Fa',\n",
       " 'BldgType_TwnhsE',\n",
       " 'RoofStyle_Gable',\n",
       " 'Condition1_PosA',\n",
       " 'HouseStyle_SFoyer',\n",
       " 'Alley_Grvl',\n",
       " 'SaleType_COD',\n",
       " 'MiscFeature_Not_Avail',\n",
       " 'BsmtQual_Fa',\n",
       " 'PavedDrive_P',\n",
       " 'BsmtExposure_Not_Avail',\n",
       " 'Fence_MnPrv',\n",
       " 'GarageCond_Fa',\n",
       " 'Fence_GdWo',\n",
       " 'BsmtFinType1_Not_Avail',\n",
       " 'FireplaceQu_Fa',\n",
       " 'OverallCond_4',\n",
       " 'Functional_Min1',\n",
       " 'LandContour_Bnk',\n",
       " 'LotShape_IR2',\n",
       " 'Exterior1st_AsbShng',\n",
       " 'BsmtFinType2_Not_Avail',\n",
       " 'Functional_Maj2',\n",
       " 'Exterior2nd_AsbShng',\n",
       " 'FireplaceQu_Po',\n",
       " 'GarageType_Not_Avail',\n",
       " 'BsmtQual_Not_Avail',\n",
       " 'Foundation_CBlock',\n",
       " 'HeatingQC_Gd',\n",
       " 'MSZoning_RM',\n",
       " 'ExterQual_Fa',\n",
       " 'HouseStyle_1.5Unf',\n",
       " 'HeatingQC_Fa',\n",
       " 'Electrical_FuseF',\n",
       " 'PoolQC_Not_Avail']"
      ]
     },
     "execution_count": 789,
     "metadata": {},
     "output_type": "execute_result"
    }
   ],
   "source": [
    "categ_var"
   ]
  }
 ],
 "metadata": {
  "kernelspec": {
   "display_name": "Python 3",
   "language": "python",
   "name": "python3"
  },
  "language_info": {
   "codemirror_mode": {
    "name": "ipython",
    "version": 3
   },
   "file_extension": ".py",
   "mimetype": "text/x-python",
   "name": "python",
   "nbconvert_exporter": "python",
   "pygments_lexer": "ipython3",
   "version": "3.7.0"
  }
 },
 "nbformat": 4,
 "nbformat_minor": 2
}
