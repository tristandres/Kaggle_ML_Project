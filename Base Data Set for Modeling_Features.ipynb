{
 "cells": [
  {
   "cell_type": "code",
   "execution_count": 68,
   "metadata": {},
   "outputs": [],
   "source": [
    "import pandas as pd\n",
    "import numpy as np\n",
    "import seaborn as sns\n",
    "import datetime as dt\n",
    "import random as rn\n",
    "import matplotlib.pyplot as plt\n",
    "import sklearn\n",
    "from sklearn.feature_selection import chi2\n",
    "from sklearn import preprocessing\n",
    "from sklearn.preprocessing import OneHotEncoder\n",
    "from scipy import stats\n",
    "import math as math\n",
    "from sklearn.model_selection import train_test_split, GridSearchCV\n",
    "from sklearn import linear_model\n",
    "from sklearn.model_selection import cross_val_score\n",
    "from xgboost import XGBRegressor\n",
    "from sklearn.metrics import r2_score"
   ]
  },
  {
   "cell_type": "code",
   "execution_count": 69,
   "metadata": {},
   "outputs": [],
   "source": [
    "data = pd.read_csv('Base_Data.csv')\n",
    "data = data.drop(columns=['Unnamed: 0'])\n",
    "data['log_Price'] = np.log(data.SalePrice)"
   ]
  },
  {
   "cell_type": "code",
   "execution_count": null,
   "metadata": {},
   "outputs": [],
   "source": []
  },
  {
   "cell_type": "code",
   "execution_count": 70,
   "metadata": {},
   "outputs": [],
   "source": [
    "f_reg_cont = ['LotFrontage','LotArea','YearBuilt','YearRemodAdd','MasVnrArea','TotalBsmtSF','GrLivArea','BsmtFullBath','FullBath',\n",
    " 'HalfBath','BedroomAbvGr','KitchenAbvGr','Fireplaces','GarageYrBlt','GarageCars','WoodDeckSF','OpenPorchSF','EnclosedPorch','3SsnPorch','ScreenPorch','PoolArea']"
   ]
  },
  {
   "cell_type": "code",
   "execution_count": 72,
   "metadata": {},
   "outputs": [],
   "source": [
    "chi_sq_var = ['MSSubClass', 'Utilities', 'LandSlope', 'ExterCond', 'MiscFeature', 'Street']"
   ]
  },
  {
   "cell_type": "code",
   "execution_count": 73,
   "metadata": {},
   "outputs": [],
   "source": [
    "anova_t_var = ['PavedDrive_P','BsmtExposure_Not_Avail','LotConfig_CulDSac','LandContour_Bnk','MasVnrType_BrkFace','Foundation_PConc',\n",
    " 'LotShape_IR2','GarageQual_Fa','GarageFinish_RFn','BsmtFinType2_Not_Avail','Functional_Maj2',\n",
    " 'ExterQual_TA','SaleType_New','ExterCond_Fa','CentralAir_N','RoofMatl_WdShngl',\n",
    " 'BldgType_TwnhsE','RoofStyle_Gable','KitchenQual_TA','HeatingQC_Fa','Electrical_FuseF','Alley_Grvl','MiscFeature_Not_Avail']"
   ]
  },
  {
   "cell_type": "code",
   "execution_count": 74,
   "metadata": {},
   "outputs": [],
   "source": [
    "test = data.iloc[:,:-3]\n",
    "test = pd.get_dummies(test)"
   ]
  },
  {
   "cell_type": "code",
   "execution_count": 75,
   "metadata": {},
   "outputs": [
    {
     "data": {
      "text/plain": [
       "23"
      ]
     },
     "execution_count": 75,
     "metadata": {},
     "output_type": "execute_result"
    }
   ],
   "source": [
    "len(anova_t_var)"
   ]
  },
  {
   "cell_type": "code",
   "execution_count": 76,
   "metadata": {},
   "outputs": [
    {
     "data": {
      "text/plain": [
       "(array([  3.,   2.,   0.,   2.,   3.,   7.,   5.,  10.,  39.,  35.,  49.,\n",
       "        100., 138., 186., 146., 156., 142., 102., 100.,  68.,  52.,  44.,\n",
       "         22.,  24.,  12.,   4.,   3.,   3.,   1.,   2.]),\n",
       " array([10.46024211, 10.56271647, 10.66519084, 10.7676652 , 10.87013956,\n",
       "        10.97261393, 11.07508829, 11.17756266, 11.28003702, 11.38251138,\n",
       "        11.48498575, 11.58746011, 11.68993448, 11.79240884, 11.8948832 ,\n",
       "        11.99735757, 12.09983193, 12.2023063 , 12.30478066, 12.40725502,\n",
       "        12.50972939, 12.61220375, 12.71467812, 12.81715248, 12.91962684,\n",
       "        13.02210121, 13.12457557, 13.22704994, 13.3295243 , 13.43199866,\n",
       "        13.53447303]),\n",
       " <a list of 30 Patch objects>)"
      ]
     },
     "execution_count": 76,
     "metadata": {},
     "output_type": "execute_result"
    },
    {
     "data": {
      "image/png": "[encoded data removed]",
      "text/plain": [
       "<Figure size 432x288 with 1 Axes>"
      ]
     },
     "metadata": {
      "needs_background": "light"
     },
     "output_type": "display_data"
    }
   ],
   "source": [
    "plt.hist(data['log_Price'],bins = 30)"
   ]
  },
  {
   "cell_type": "code",
   "execution_count": 77,
   "metadata": {},
   "outputs": [
    {
     "name": "stdout",
     "output_type": "stream",
     "text": [
      "lambda = -0.076924\n"
     ]
    },
    {
     "data": {
      "text/plain": [
       "(array([  3.,   2.,   0.,   0.,   4.,   6.,   5.,   4.,  19.,  36.,  33.,\n",
       "         60., 102., 136., 188., 141., 172., 131.,  96.,  96.,  78.,  42.,\n",
       "         47.,  22.,  18.,   9.,   2.,   4.,   2.,   2.]),\n",
       " array([7.18570046, 7.22651578, 7.2673311 , 7.30814641, 7.34896173,\n",
       "        7.38977705, 7.43059237, 7.47140768, 7.512223  , 7.55303832,\n",
       "        7.59385363, 7.63466895, 7.67548427, 7.71629959, 7.7571149 ,\n",
       "        7.79793022, 7.83874554, 7.87956086, 7.92037617, 7.96119149,\n",
       "        8.00200681, 8.04282212, 8.08363744, 8.12445276, 8.16526808,\n",
       "        8.20608339, 8.24689871, 8.28771403, 8.32852934, 8.36934466,\n",
       "        8.41015998]),\n",
       " <a list of 30 Patch objects>)"
      ]
     },
     "execution_count": 77,
     "metadata": {},
     "output_type": "execute_result"
    },
    {
     "data": {
      "image/png": "[encoded data removed]",
      "text/plain": [
       "<Figure size 432x288 with 1 Axes>"
      ]
     },
     "metadata": {
      "needs_background": "light"
     },
     "output_type": "display_data"
    }
   ],
   "source": [
    "xt, maxlog, interval = stats.boxcox(data['SalePrice'], alpha=0.05)\n",
    "print(\"lambda = {:g}\".format(maxlog))\n",
    "plt.hist(xt,bins = 30)"
   ]
  },
  {
   "cell_type": "code",
   "execution_count": 78,
   "metadata": {},
   "outputs": [],
   "source": [
    "data['BC_Price'] = xt\n",
    "prices = list(['SalePrice','log_Price','BC_Price'])"
   ]
  },
  {
   "cell_type": "code",
   "execution_count": 79,
   "metadata": {},
   "outputs": [],
   "source": [
    "#data set for chisq and f_Reg\n",
    "all_f_chi = f_reg_cont + chi_sq_var\n",
    "data_f_chi = data[all_f_chi]\n",
    "data_f_chi = pd.get_dummies(data_f_chi)"
   ]
  },
  {
   "cell_type": "code",
   "execution_count": 80,
   "metadata": {},
   "outputs": [],
   "source": [
    "#data set for anova t test and f_Reg\n",
    "dumm_data = pd.get_dummies(data)\n",
    "all_f_anova = f_reg_cont + anova_t_var\n",
    "data_f_anova = dumm_data[all_f_anova]"
   ]
  },
  {
   "cell_type": "code",
   "execution_count": 81,
   "metadata": {},
   "outputs": [],
   "source": [
    "n_alphas = 500\n",
    "alphas1 = np.logspace(-3, 3, n_alphas)"
   ]
  },
  {
   "cell_type": "code",
   "execution_count": 171,
   "metadata": {},
   "outputs": [
    {
     "data": {
      "text/plain": [
       "Index(['LotFrontage', 'LotArea', 'YearBuilt', 'YearRemodAdd', 'MasVnrArea',\n",
       "       'TotalBsmtSF', 'GrLivArea', 'BsmtFullBath', 'FullBath', 'HalfBath',\n",
       "       'BedroomAbvGr', 'KitchenAbvGr', 'Fireplaces', 'GarageYrBlt',\n",
       "       'GarageCars', 'WoodDeckSF', 'OpenPorchSF', 'EnclosedPorch', '3SsnPorch',\n",
       "       'ScreenPorch', 'PoolArea', 'PavedDrive_P', 'BsmtExposure_Not_Avail',\n",
       "       'LotConfig_CulDSac', 'LandContour_Bnk', 'MasVnrType_BrkFace',\n",
       "       'Foundation_PConc', 'LotShape_IR2', 'GarageQual_Fa', 'GarageFinish_RFn',\n",
       "       'BsmtFinType2_Not_Avail', 'Functional_Maj2', 'ExterQual_TA',\n",
       "       'SaleType_New', 'ExterCond_Fa', 'CentralAir_N', 'RoofMatl_WdShngl',\n",
       "       'BldgType_TwnhsE', 'RoofStyle_Gable', 'KitchenQual_TA', 'HeatingQC_Fa',\n",
       "       'Electrical_FuseF', 'Alley_Grvl', 'MiscFeature_Not_Avail'],\n",
       "      dtype='object')"
      ]
     },
     "execution_count": 171,
     "metadata": {},
     "output_type": "execute_result"
    }
   ],
   "source": [
    "import statsmodels.api as sm\n",
    "data_f_anova.columns"
   ]
  },
  {
   "cell_type": "code",
   "execution_count": 183,
   "metadata": {},
   "outputs": [
    {
     "data": {
      "text/plain": [
       "0.7789269691893997"
      ]
     },
     "execution_count": 183,
     "metadata": {},
     "output_type": "execute_result"
    }
   ],
   "source": [
    "data_ = data_f_chi\n",
    "y = np.array(data['SalePrice'])\n",
    "X = np.array(data_)\n",
    "from sklearn.linear_model import LinearRegression\n",
    "reg = LinearRegression().fit(X, y)\n",
    "reg.score(X,y)"
   ]
  },
  {
   "cell_type": "code",
   "execution_count": 184,
   "metadata": {},
   "outputs": [
    {
     "data": {
      "text/plain": [
       "Text(0,0.5,'weights')"
      ]
     },
     "execution_count": 184,
     "metadata": {},
     "output_type": "execute_result"
    },
    {
     "data": {
      "image/png": "[encoded data removed]",
      "text/plain": [
       "<Figure size 432x288 with 1 Axes>"
      ]
     },
     "metadata": {
      "needs_background": "light"
     },
     "output_type": "display_data"
    }
   ],
   "source": [
    "from sklearn.datasets import load_diabetes\n",
    "from sklearn.linear_model import Ridge, RidgeCV, Lasso, LassoCV\n",
    "\n",
    "ridge = Ridge(normalize=True)\n",
    "coefs = []\n",
    "for a in alphas1:\n",
    "    ridge.set_params(alpha=a)\n",
    "    ridge.fit(X, y)\n",
    "    coefs.append(ridge.coef_)\n",
    "\n",
    "ax = plt.gca()\n",
    "ax.plot(alphas1, coefs)\n",
    "ax.set_xscale('log')\n",
    "plt.axis('tight')\n",
    "plt.xlabel('alpha')\n",
    "plt.ylabel('weights')\n"
   ]
  },
  {
   "cell_type": "code",
   "execution_count": 185,
   "metadata": {},
   "outputs": [
    {
     "data": {
      "text/plain": [
       "0.6141665940385772"
      ]
     },
     "execution_count": 185,
     "metadata": {},
     "output_type": "execute_result"
    }
   ],
   "source": [
    "X_train, X_test , y_train, y_test = train_test_split(X, y, test_size=0.2, random_state=0)\n",
    "ridgecv = RidgeCV(alphas=alphas1, scoring=None, normalize=True)\n",
    "ridgecv.fit(X_train, y_train)\n",
    "coefs1 = pd.Series(ridgecv.coef_, index=data_.columns)\n",
    "alpha_ =  ridgecv.alpha_\n",
    "score_ = ridgecv.score(X_train,y_train)\n",
    "score_\n",
    "ridgecv.score(X_test,y_test)"
   ]
  },
  {
   "cell_type": "code",
   "execution_count": 186,
   "metadata": {},
   "outputs": [
    {
     "data": {
      "text/plain": [
       "0.8128725838433478"
      ]
     },
     "execution_count": 186,
     "metadata": {},
     "output_type": "execute_result"
    }
   ],
   "source": [
    "X_train, X_test , y_train, y_test = train_test_split(X, y, test_size=0.2, random_state=0)\n",
    "lassocv = LassoCV(alphas=alphas1, normalize=True,cv=5)\n",
    "lassocv.fit(X_train, y_train)\n",
    "lassocv.alpha_\n",
    "coefs1 = pd.Series(lassocv.coef_, index=data_.columns)\n",
    "alpha_ =  lassocv.alpha_\n",
    "score_ = lassocv.score(X_train,y_train)\n",
    "score_"
   ]
  },
  {
   "cell_type": "code",
   "execution_count": 189,
   "metadata": {},
   "outputs": [
    {
     "name": "stdout",
     "output_type": "stream",
     "text": [
      "51618.86876588894\n",
      "51558.3176590906\n"
     ]
    }
   ],
   "source": [
    "def rmse(predictions, targets):\n",
    "    return np.sqrt(((predictions - targets) ** 2).mean())\n",
    "print(rmse(ridgecv.predict(X_test),y_test))\n",
    "#chi RMSE sq 0.1763\n",
    "#anova RMSE sq 0.1762\n",
    "print(rmse(lassocv.predict(X_test),y_test))\n",
    "#both of 0.197\n",
    "import math"
   ]
  },
  {
   "cell_type": "code",
   "execution_count": 138,
   "metadata": {},
   "outputs": [],
   "source": [
    "from xgboost import XGBRegressor\n",
    "from sklearn.metrics import accuracy_score"
   ]
  },
  {
   "cell_type": "code",
   "execution_count": 139,
   "metadata": {},
   "outputs": [
    {
     "data": {
      "text/plain": [
       "XGBRegressor(base_score=0.5, booster='gbtree', colsample_bylevel=1,\n",
       "       colsample_bytree=1, gamma=0, learning_rate=0.1, max_delta_step=0,\n",
       "       max_depth=3, min_child_weight=1, missing=None, n_estimators=100,\n",
       "       n_jobs=1, nthread=None, objective='reg:linear', random_state=0,\n",
       "       reg_alpha=0, reg_lambda=1, scale_pos_weight=1, seed=None,\n",
       "       silent=True, subsample=1)"
      ]
     },
     "execution_count": 139,
     "metadata": {},
     "output_type": "execute_result"
    }
   ],
   "source": [
    "X_train, X_test , y_train, y_test = train_test_split(X, y, test_size=0.2, random_state=0)\n",
    "XGB = XGBRegressor()\n",
    "XGB.fit(X_train, y_train)"
   ]
  },
  {
   "cell_type": "code",
   "execution_count": 140,
   "metadata": {},
   "outputs": [],
   "source": [
    "y_pred = XGB.predict(X_test)\n",
    "predictions = [round(value) for value in y_pred]"
   ]
  },
  {
   "cell_type": "code",
   "execution_count": 141,
   "metadata": {},
   "outputs": [
    {
     "name": "stdout",
     "output_type": "stream",
     "text": [
      "0.15246942820300882\n"
     ]
    }
   ],
   "source": [
    "print(rmse(y_pred,y_test))"
   ]
  },
  {
   "cell_type": "code",
   "execution_count": 143,
   "metadata": {},
   "outputs": [
    {
     "data": {
      "text/plain": [
       "0.8464534292309438"
      ]
     },
     "execution_count": 143,
     "metadata": {},
     "output_type": "execute_result"
    }
   ],
   "source": [
    "XGB.score(X_test,y_test)"
   ]
  },
  {
   "cell_type": "code",
   "execution_count": 99,
   "metadata": {},
   "outputs": [],
   "source": [
    "xgb = XGBRegressor(nthread=-1)"
   ]
  },
  {
   "cell_type": "code",
   "execution_count": 100,
   "metadata": {},
   "outputs": [],
   "source": [
    "params = {'gamma': [0.1], 'max_depth': [8], 'n_estimators': [150]}"
   ]
  },
  {
   "cell_type": "code",
   "execution_count": 101,
   "metadata": {},
   "outputs": [
    {
     "data": {
      "text/plain": [
       "0.9541754552638522"
      ]
     },
     "execution_count": 101,
     "metadata": {},
     "output_type": "execute_result"
    }
   ],
   "source": [
    "XGB = XGBRegressor()\n",
    "xgb = XGBRegressor(nthread=-1)\n",
    "grid = GridSearchCV(xgb, params,cv=5)\n",
    "grid.fit(X_train, y_train)\n",
    "grid.score(X_train,y_train)"
   ]
  },
  {
   "cell_type": "code",
   "execution_count": 102,
   "metadata": {},
   "outputs": [
    {
     "data": {
      "text/plain": [
       "0.8667727712714465"
      ]
     },
     "execution_count": 102,
     "metadata": {},
     "output_type": "execute_result"
    }
   ],
   "source": [
    "grid.score(X_test,y_test)"
   ]
  },
  {
   "cell_type": "code",
   "execution_count": 103,
   "metadata": {},
   "outputs": [
    {
     "name": "stdout",
     "output_type": "stream",
     "text": [
      "0.14202317192766625\n"
     ]
    }
   ],
   "source": [
    "y_pred = grid.predict(X_test)\n",
    "print(rmse(y_pred,y_test))"
   ]
  },
  {
   "cell_type": "code",
   "execution_count": 144,
   "metadata": {},
   "outputs": [],
   "source": [
    "from sklearn.ensemble import RandomForestRegressor"
   ]
  },
  {
   "cell_type": "code",
   "execution_count": 145,
   "metadata": {},
   "outputs": [],
   "source": [
    "param_grid = {\n",
    "    'max_depth': [103],\n",
    "    'max_features': [95],\n",
    "    'n_estimators': [290],\n",
    "}"
   ]
  },
  {
   "cell_type": "code",
   "execution_count": 150,
   "metadata": {},
   "outputs": [],
   "source": [
    "rf = RandomForestRegressor()\n",
    "grid_search = GridSearchCV(rf, params,cv=5)"
   ]
  },
  {
   "cell_type": "code",
   "execution_count": 147,
   "metadata": {},
   "outputs": [],
   "source": [
    "grid_search = GridSearchCV(estimator = rf, param_grid = param_grid, \n",
    "                          cv = 5, n_jobs = -1, verbose = 2)"
   ]
  },
  {
   "cell_type": "code",
   "execution_count": 151,
   "metadata": {},
   "outputs": [
    {
     "ename": "ValueError",
     "evalue": "Invalid parameter gamma for estimator RandomForestRegressor(bootstrap=True, criterion='mse', max_depth=None,\n           max_features='auto', max_leaf_nodes=None,\n           min_impurity_decrease=0.0, min_impurity_split=None,\n           min_samples_leaf=1, min_samples_split=2,\n           min_weight_fraction_leaf=0.0, n_estimators='warn', n_jobs=None,\n           oob_score=False, random_state=None, verbose=0, warm_start=False). Check the list of available parameters with `estimator.get_params().keys()`.",
     "output_type": "error",
     "traceback": [
      "\u001b[1;31m---------------------------------------------------------------------------\u001b[0m",
      "\u001b[1;31mValueError\u001b[0m                                Traceback (most recent call last)",
      "\u001b[1;32m<ipython-input-151-7912bbd68fbd>\u001b[0m in \u001b[0;36m<module>\u001b[1;34m()\u001b[0m\n\u001b[1;32m----> 1\u001b[1;33m \u001b[0mgrid_search\u001b[0m\u001b[1;33m.\u001b[0m\u001b[0mfit\u001b[0m\u001b[1;33m(\u001b[0m\u001b[0mX_train\u001b[0m\u001b[1;33m,\u001b[0m\u001b[0my_train\u001b[0m\u001b[1;33m)\u001b[0m\u001b[1;33m\u001b[0m\u001b[0m\n\u001b[0m",
      "\u001b[1;32m~\\Desktop\\CondaFile\\lib\\site-packages\\sklearn\\model_selection\\_search.py\u001b[0m in \u001b[0;36mfit\u001b[1;34m(self, X, y, groups, **fit_params)\u001b[0m\n\u001b[0;32m    720\u001b[0m                 \u001b[1;32mreturn\u001b[0m \u001b[0mresults_container\u001b[0m\u001b[1;33m[\u001b[0m\u001b[1;36m0\u001b[0m\u001b[1;33m]\u001b[0m\u001b[1;33m\u001b[0m\u001b[0m\n\u001b[0;32m    721\u001b[0m \u001b[1;33m\u001b[0m\u001b[0m\n\u001b[1;32m--> 722\u001b[1;33m             \u001b[0mself\u001b[0m\u001b[1;33m.\u001b[0m\u001b[0m_run_search\u001b[0m\u001b[1;33m(\u001b[0m\u001b[0mevaluate_candidates\u001b[0m\u001b[1;33m)\u001b[0m\u001b[1;33m\u001b[0m\u001b[0m\n\u001b[0m\u001b[0;32m    723\u001b[0m \u001b[1;33m\u001b[0m\u001b[0m\n\u001b[0;32m    724\u001b[0m         \u001b[0mresults\u001b[0m \u001b[1;33m=\u001b[0m \u001b[0mresults_container\u001b[0m\u001b[1;33m[\u001b[0m\u001b[1;36m0\u001b[0m\u001b[1;33m]\u001b[0m\u001b[1;33m\u001b[0m\u001b[0m\n",
      "\u001b[1;32m~\\Desktop\\CondaFile\\lib\\site-packages\\sklearn\\model_selection\\_search.py\u001b[0m in \u001b[0;36m_run_search\u001b[1;34m(self, evaluate_candidates)\u001b[0m\n\u001b[0;32m   1189\u001b[0m     \u001b[1;32mdef\u001b[0m \u001b[0m_run_search\u001b[0m\u001b[1;33m(\u001b[0m\u001b[0mself\u001b[0m\u001b[1;33m,\u001b[0m \u001b[0mevaluate_candidates\u001b[0m\u001b[1;33m)\u001b[0m\u001b[1;33m:\u001b[0m\u001b[1;33m\u001b[0m\u001b[0m\n\u001b[0;32m   1190\u001b[0m         \u001b[1;34m\"\"\"Search all candidates in param_grid\"\"\"\u001b[0m\u001b[1;33m\u001b[0m\u001b[0m\n\u001b[1;32m-> 1191\u001b[1;33m         \u001b[0mevaluate_candidates\u001b[0m\u001b[1;33m(\u001b[0m\u001b[0mParameterGrid\u001b[0m\u001b[1;33m(\u001b[0m\u001b[0mself\u001b[0m\u001b[1;33m.\u001b[0m\u001b[0mparam_grid\u001b[0m\u001b[1;33m)\u001b[0m\u001b[1;33m)\u001b[0m\u001b[1;33m\u001b[0m\u001b[0m\n\u001b[0m\u001b[0;32m   1192\u001b[0m \u001b[1;33m\u001b[0m\u001b[0m\n\u001b[0;32m   1193\u001b[0m \u001b[1;33m\u001b[0m\u001b[0m\n",
      "\u001b[1;32m~\\Desktop\\CondaFile\\lib\\site-packages\\sklearn\\model_selection\\_search.py\u001b[0m in \u001b[0;36mevaluate_candidates\u001b[1;34m(candidate_params)\u001b[0m\n\u001b[0;32m    709\u001b[0m                                \u001b[1;32mfor\u001b[0m \u001b[0mparameters\u001b[0m\u001b[1;33m,\u001b[0m \u001b[1;33m(\u001b[0m\u001b[0mtrain\u001b[0m\u001b[1;33m,\u001b[0m \u001b[0mtest\u001b[0m\u001b[1;33m)\u001b[0m\u001b[1;33m\u001b[0m\u001b[0m\n\u001b[0;32m    710\u001b[0m                                in product(candidate_params,\n\u001b[1;32m--> 711\u001b[1;33m                                           cv.split(X, y, groups)))\n\u001b[0m\u001b[0;32m    712\u001b[0m \u001b[1;33m\u001b[0m\u001b[0m\n\u001b[0;32m    713\u001b[0m                 \u001b[0mall_candidate_params\u001b[0m\u001b[1;33m.\u001b[0m\u001b[0mextend\u001b[0m\u001b[1;33m(\u001b[0m\u001b[0mcandidate_params\u001b[0m\u001b[1;33m)\u001b[0m\u001b[1;33m\u001b[0m\u001b[0m\n",
      "\u001b[1;32m~\\Desktop\\CondaFile\\lib\\site-packages\\sklearn\\externals\\joblib\\parallel.py\u001b[0m in \u001b[0;36m__call__\u001b[1;34m(self, iterable)\u001b[0m\n\u001b[0;32m    981\u001b[0m             \u001b[1;31m# remaining jobs.\u001b[0m\u001b[1;33m\u001b[0m\u001b[1;33m\u001b[0m\u001b[0m\n\u001b[0;32m    982\u001b[0m             \u001b[0mself\u001b[0m\u001b[1;33m.\u001b[0m\u001b[0m_iterating\u001b[0m \u001b[1;33m=\u001b[0m \u001b[1;32mFalse\u001b[0m\u001b[1;33m\u001b[0m\u001b[0m\n\u001b[1;32m--> 983\u001b[1;33m             \u001b[1;32mif\u001b[0m \u001b[0mself\u001b[0m\u001b[1;33m.\u001b[0m\u001b[0mdispatch_one_batch\u001b[0m\u001b[1;33m(\u001b[0m\u001b[0miterator\u001b[0m\u001b[1;33m)\u001b[0m\u001b[1;33m:\u001b[0m\u001b[1;33m\u001b[0m\u001b[0m\n\u001b[0m\u001b[0;32m    984\u001b[0m                 \u001b[0mself\u001b[0m\u001b[1;33m.\u001b[0m\u001b[0m_iterating\u001b[0m \u001b[1;33m=\u001b[0m \u001b[0mself\u001b[0m\u001b[1;33m.\u001b[0m\u001b[0m_original_iterator\u001b[0m \u001b[1;32mis\u001b[0m \u001b[1;32mnot\u001b[0m \u001b[1;32mNone\u001b[0m\u001b[1;33m\u001b[0m\u001b[0m\n\u001b[0;32m    985\u001b[0m \u001b[1;33m\u001b[0m\u001b[0m\n",
      "\u001b[1;32m~\\Desktop\\CondaFile\\lib\\site-packages\\sklearn\\externals\\joblib\\parallel.py\u001b[0m in \u001b[0;36mdispatch_one_batch\u001b[1;34m(self, iterator)\u001b[0m\n\u001b[0;32m    823\u001b[0m                 \u001b[1;32mreturn\u001b[0m \u001b[1;32mFalse\u001b[0m\u001b[1;33m\u001b[0m\u001b[0m\n\u001b[0;32m    824\u001b[0m             \u001b[1;32melse\u001b[0m\u001b[1;33m:\u001b[0m\u001b[1;33m\u001b[0m\u001b[0m\n\u001b[1;32m--> 825\u001b[1;33m                 \u001b[0mself\u001b[0m\u001b[1;33m.\u001b[0m\u001b[0m_dispatch\u001b[0m\u001b[1;33m(\u001b[0m\u001b[0mtasks\u001b[0m\u001b[1;33m)\u001b[0m\u001b[1;33m\u001b[0m\u001b[0m\n\u001b[0m\u001b[0;32m    826\u001b[0m                 \u001b[1;32mreturn\u001b[0m \u001b[1;32mTrue\u001b[0m\u001b[1;33m\u001b[0m\u001b[0m\n\u001b[0;32m    827\u001b[0m \u001b[1;33m\u001b[0m\u001b[0m\n",
      "\u001b[1;32m~\\Desktop\\CondaFile\\lib\\site-packages\\sklearn\\externals\\joblib\\parallel.py\u001b[0m in \u001b[0;36m_dispatch\u001b[1;34m(self, batch)\u001b[0m\n\u001b[0;32m    780\u001b[0m         \u001b[1;32mwith\u001b[0m \u001b[0mself\u001b[0m\u001b[1;33m.\u001b[0m\u001b[0m_lock\u001b[0m\u001b[1;33m:\u001b[0m\u001b[1;33m\u001b[0m\u001b[0m\n\u001b[0;32m    781\u001b[0m             \u001b[0mjob_idx\u001b[0m \u001b[1;33m=\u001b[0m \u001b[0mlen\u001b[0m\u001b[1;33m(\u001b[0m\u001b[0mself\u001b[0m\u001b[1;33m.\u001b[0m\u001b[0m_jobs\u001b[0m\u001b[1;33m)\u001b[0m\u001b[1;33m\u001b[0m\u001b[0m\n\u001b[1;32m--> 782\u001b[1;33m             \u001b[0mjob\u001b[0m \u001b[1;33m=\u001b[0m \u001b[0mself\u001b[0m\u001b[1;33m.\u001b[0m\u001b[0m_backend\u001b[0m\u001b[1;33m.\u001b[0m\u001b[0mapply_async\u001b[0m\u001b[1;33m(\u001b[0m\u001b[0mbatch\u001b[0m\u001b[1;33m,\u001b[0m \u001b[0mcallback\u001b[0m\u001b[1;33m=\u001b[0m\u001b[0mcb\u001b[0m\u001b[1;33m)\u001b[0m\u001b[1;33m\u001b[0m\u001b[0m\n\u001b[0m\u001b[0;32m    783\u001b[0m             \u001b[1;31m# A job can complete so quickly than its callback is\u001b[0m\u001b[1;33m\u001b[0m\u001b[1;33m\u001b[0m\u001b[0m\n\u001b[0;32m    784\u001b[0m             \u001b[1;31m# called before we get here, causing self._jobs to\u001b[0m\u001b[1;33m\u001b[0m\u001b[1;33m\u001b[0m\u001b[0m\n",
      "\u001b[1;32m~\\Desktop\\CondaFile\\lib\\site-packages\\sklearn\\externals\\joblib\\_parallel_backends.py\u001b[0m in \u001b[0;36mapply_async\u001b[1;34m(self, func, callback)\u001b[0m\n\u001b[0;32m    180\u001b[0m     \u001b[1;32mdef\u001b[0m \u001b[0mapply_async\u001b[0m\u001b[1;33m(\u001b[0m\u001b[0mself\u001b[0m\u001b[1;33m,\u001b[0m \u001b[0mfunc\u001b[0m\u001b[1;33m,\u001b[0m \u001b[0mcallback\u001b[0m\u001b[1;33m=\u001b[0m\u001b[1;32mNone\u001b[0m\u001b[1;33m)\u001b[0m\u001b[1;33m:\u001b[0m\u001b[1;33m\u001b[0m\u001b[0m\n\u001b[0;32m    181\u001b[0m         \u001b[1;34m\"\"\"Schedule a func to be run\"\"\"\u001b[0m\u001b[1;33m\u001b[0m\u001b[0m\n\u001b[1;32m--> 182\u001b[1;33m         \u001b[0mresult\u001b[0m \u001b[1;33m=\u001b[0m \u001b[0mImmediateResult\u001b[0m\u001b[1;33m(\u001b[0m\u001b[0mfunc\u001b[0m\u001b[1;33m)\u001b[0m\u001b[1;33m\u001b[0m\u001b[0m\n\u001b[0m\u001b[0;32m    183\u001b[0m         \u001b[1;32mif\u001b[0m \u001b[0mcallback\u001b[0m\u001b[1;33m:\u001b[0m\u001b[1;33m\u001b[0m\u001b[0m\n\u001b[0;32m    184\u001b[0m             \u001b[0mcallback\u001b[0m\u001b[1;33m(\u001b[0m\u001b[0mresult\u001b[0m\u001b[1;33m)\u001b[0m\u001b[1;33m\u001b[0m\u001b[0m\n",
      "\u001b[1;32m~\\Desktop\\CondaFile\\lib\\site-packages\\sklearn\\externals\\joblib\\_parallel_backends.py\u001b[0m in \u001b[0;36m__init__\u001b[1;34m(self, batch)\u001b[0m\n\u001b[0;32m    543\u001b[0m         \u001b[1;31m# Don't delay the application, to avoid keeping the input\u001b[0m\u001b[1;33m\u001b[0m\u001b[1;33m\u001b[0m\u001b[0m\n\u001b[0;32m    544\u001b[0m         \u001b[1;31m# arguments in memory\u001b[0m\u001b[1;33m\u001b[0m\u001b[1;33m\u001b[0m\u001b[0m\n\u001b[1;32m--> 545\u001b[1;33m         \u001b[0mself\u001b[0m\u001b[1;33m.\u001b[0m\u001b[0mresults\u001b[0m \u001b[1;33m=\u001b[0m \u001b[0mbatch\u001b[0m\u001b[1;33m(\u001b[0m\u001b[1;33m)\u001b[0m\u001b[1;33m\u001b[0m\u001b[0m\n\u001b[0m\u001b[0;32m    546\u001b[0m \u001b[1;33m\u001b[0m\u001b[0m\n\u001b[0;32m    547\u001b[0m     \u001b[1;32mdef\u001b[0m \u001b[0mget\u001b[0m\u001b[1;33m(\u001b[0m\u001b[0mself\u001b[0m\u001b[1;33m)\u001b[0m\u001b[1;33m:\u001b[0m\u001b[1;33m\u001b[0m\u001b[0m\n",
      "\u001b[1;32m~\\Desktop\\CondaFile\\lib\\site-packages\\sklearn\\externals\\joblib\\parallel.py\u001b[0m in \u001b[0;36m__call__\u001b[1;34m(self)\u001b[0m\n\u001b[0;32m    259\u001b[0m         \u001b[1;32mwith\u001b[0m \u001b[0mparallel_backend\u001b[0m\u001b[1;33m(\u001b[0m\u001b[0mself\u001b[0m\u001b[1;33m.\u001b[0m\u001b[0m_backend\u001b[0m\u001b[1;33m)\u001b[0m\u001b[1;33m:\u001b[0m\u001b[1;33m\u001b[0m\u001b[0m\n\u001b[0;32m    260\u001b[0m             return [func(*args, **kwargs)\n\u001b[1;32m--> 261\u001b[1;33m                     for func, args, kwargs in self.items]\n\u001b[0m\u001b[0;32m    262\u001b[0m \u001b[1;33m\u001b[0m\u001b[0m\n\u001b[0;32m    263\u001b[0m     \u001b[1;32mdef\u001b[0m \u001b[0m__len__\u001b[0m\u001b[1;33m(\u001b[0m\u001b[0mself\u001b[0m\u001b[1;33m)\u001b[0m\u001b[1;33m:\u001b[0m\u001b[1;33m\u001b[0m\u001b[0m\n",
      "\u001b[1;32m~\\Desktop\\CondaFile\\lib\\site-packages\\sklearn\\externals\\joblib\\parallel.py\u001b[0m in \u001b[0;36m<listcomp>\u001b[1;34m(.0)\u001b[0m\n\u001b[0;32m    259\u001b[0m         \u001b[1;32mwith\u001b[0m \u001b[0mparallel_backend\u001b[0m\u001b[1;33m(\u001b[0m\u001b[0mself\u001b[0m\u001b[1;33m.\u001b[0m\u001b[0m_backend\u001b[0m\u001b[1;33m)\u001b[0m\u001b[1;33m:\u001b[0m\u001b[1;33m\u001b[0m\u001b[0m\n\u001b[0;32m    260\u001b[0m             return [func(*args, **kwargs)\n\u001b[1;32m--> 261\u001b[1;33m                     for func, args, kwargs in self.items]\n\u001b[0m\u001b[0;32m    262\u001b[0m \u001b[1;33m\u001b[0m\u001b[0m\n\u001b[0;32m    263\u001b[0m     \u001b[1;32mdef\u001b[0m \u001b[0m__len__\u001b[0m\u001b[1;33m(\u001b[0m\u001b[0mself\u001b[0m\u001b[1;33m)\u001b[0m\u001b[1;33m:\u001b[0m\u001b[1;33m\u001b[0m\u001b[0m\n",
      "\u001b[1;32m~\\Desktop\\CondaFile\\lib\\site-packages\\sklearn\\model_selection\\_validation.py\u001b[0m in \u001b[0;36m_fit_and_score\u001b[1;34m(estimator, X, y, scorer, train, test, verbose, parameters, fit_params, return_train_score, return_parameters, return_n_test_samples, return_times, return_estimator, error_score)\u001b[0m\n\u001b[0;32m    512\u001b[0m     \u001b[0mtrain_scores\u001b[0m \u001b[1;33m=\u001b[0m \u001b[1;33m{\u001b[0m\u001b[1;33m}\u001b[0m\u001b[1;33m\u001b[0m\u001b[0m\n\u001b[0;32m    513\u001b[0m     \u001b[1;32mif\u001b[0m \u001b[0mparameters\u001b[0m \u001b[1;32mis\u001b[0m \u001b[1;32mnot\u001b[0m \u001b[1;32mNone\u001b[0m\u001b[1;33m:\u001b[0m\u001b[1;33m\u001b[0m\u001b[0m\n\u001b[1;32m--> 514\u001b[1;33m         \u001b[0mestimator\u001b[0m\u001b[1;33m.\u001b[0m\u001b[0mset_params\u001b[0m\u001b[1;33m(\u001b[0m\u001b[1;33m**\u001b[0m\u001b[0mparameters\u001b[0m\u001b[1;33m)\u001b[0m\u001b[1;33m\u001b[0m\u001b[0m\n\u001b[0m\u001b[0;32m    515\u001b[0m \u001b[1;33m\u001b[0m\u001b[0m\n\u001b[0;32m    516\u001b[0m     \u001b[0mstart_time\u001b[0m \u001b[1;33m=\u001b[0m \u001b[0mtime\u001b[0m\u001b[1;33m.\u001b[0m\u001b[0mtime\u001b[0m\u001b[1;33m(\u001b[0m\u001b[1;33m)\u001b[0m\u001b[1;33m\u001b[0m\u001b[0m\n",
      "\u001b[1;32m~\\Desktop\\CondaFile\\lib\\site-packages\\sklearn\\base.py\u001b[0m in \u001b[0;36mset_params\u001b[1;34m(self, **params)\u001b[0m\n\u001b[0;32m    211\u001b[0m                                  \u001b[1;34m'Check the list of available parameters '\u001b[0m\u001b[1;33m\u001b[0m\u001b[0m\n\u001b[0;32m    212\u001b[0m                                  \u001b[1;34m'with `estimator.get_params().keys()`.'\u001b[0m \u001b[1;33m%\u001b[0m\u001b[1;33m\u001b[0m\u001b[0m\n\u001b[1;32m--> 213\u001b[1;33m                                  (key, self))\n\u001b[0m\u001b[0;32m    214\u001b[0m \u001b[1;33m\u001b[0m\u001b[0m\n\u001b[0;32m    215\u001b[0m             \u001b[1;32mif\u001b[0m \u001b[0mdelim\u001b[0m\u001b[1;33m:\u001b[0m\u001b[1;33m\u001b[0m\u001b[0m\n",
      "\u001b[1;31mValueError\u001b[0m: Invalid parameter gamma for estimator RandomForestRegressor(bootstrap=True, criterion='mse', max_depth=None,\n           max_features='auto', max_leaf_nodes=None,\n           min_impurity_decrease=0.0, min_impurity_split=None,\n           min_samples_leaf=1, min_samples_split=2,\n           min_weight_fraction_leaf=0.0, n_estimators='warn', n_jobs=None,\n           oob_score=False, random_state=None, verbose=0, warm_start=False). Check the list of available parameters with `estimator.get_params().keys()`."
     ]
    }
   ],
   "source": [
    "grid_search.fit(X_train,y_train)"
   ]
  },
  {
   "cell_type": "code",
   "execution_count": 110,
   "metadata": {},
   "outputs": [
    {
     "data": {
      "text/plain": [
       "0.9635690004812333"
      ]
     },
     "execution_count": 110,
     "metadata": {},
     "output_type": "execute_result"
    }
   ],
   "source": [
    "grid_search.best_score_\n",
    "grid_search.best_params_\n",
    "grid_search.score(X,y)"
   ]
  },
  {
   "cell_type": "code",
   "execution_count": 111,
   "metadata": {},
   "outputs": [
    {
     "data": {
      "text/plain": [
       "0.8796853691687467"
      ]
     },
     "execution_count": 111,
     "metadata": {},
     "output_type": "execute_result"
    }
   ],
   "source": [
    "grid_search.score(X_test,y_test)"
   ]
  },
  {
   "cell_type": "code",
   "execution_count": 112,
   "metadata": {},
   "outputs": [
    {
     "name": "stdout",
     "output_type": "stream",
     "text": [
      "0.1349652402821126\n"
     ]
    }
   ],
   "source": [
    "y_pred = grid_search.predict(X_test)\n",
    "print(rmse(y_pred,y_test))"
   ]
  },
  {
   "cell_type": "code",
   "execution_count": 36,
   "metadata": {},
   "outputs": [],
   "source": [
    "from sklearn.svm import SVR"
   ]
  },
  {
   "cell_type": "code",
   "execution_count": 37,
   "metadata": {},
   "outputs": [],
   "source": [
    "svr = GridSearchCV(SVR(kernel='rbf'), cv=5,\n",
    "                   param_grid={\"C\": [1e0, 1e1, 1e2, 1e3],\n",
    "                               \"gamma\": np.logspace(-2, 2, 5),\n",
    "                               \"epsilon\": [0.01,0.05,0.1,0.5]},\n",
    "                              verbose = 3)"
   ]
  },
  {
   "cell_type": "code",
   "execution_count": null,
   "metadata": {},
   "outputs": [
    {
     "name": "stdout",
     "output_type": "stream",
     "text": [
      "Fitting 5 folds for each of 80 candidates, totalling 400 fits\n",
      "[CV] C=1.0, epsilon=0.01, gamma=0.01 .................................\n"
     ]
    },
    {
     "name": "stderr",
     "output_type": "stream",
     "text": [
      "[Parallel(n_jobs=1)]: Using backend SequentialBackend with 1 concurrent workers.\n"
     ]
    },
    {
     "name": "stdout",
     "output_type": "stream",
     "text": [
      "[CV]  C=1.0, epsilon=0.01, gamma=0.01, score=0.004927241744061672, total=   0.3s\n",
      "[CV] C=1.0, epsilon=0.01, gamma=0.01 .................................\n"
     ]
    },
    {
     "name": "stderr",
     "output_type": "stream",
     "text": [
      "[Parallel(n_jobs=1)]: Done   1 out of   1 | elapsed:    0.6s remaining:    0.0s\n"
     ]
    },
    {
     "name": "stdout",
     "output_type": "stream",
     "text": [
      "[CV]  C=1.0, epsilon=0.01, gamma=0.01, score=0.0029825806479891748, total=   0.3s\n",
      "[CV] C=1.0, epsilon=0.01, gamma=0.01 .................................\n"
     ]
    },
    {
     "name": "stderr",
     "output_type": "stream",
     "text": [
      "[Parallel(n_jobs=1)]: Done   2 out of   2 | elapsed:    1.2s remaining:    0.0s\n"
     ]
    },
    {
     "name": "stdout",
     "output_type": "stream",
     "text": [
      "[CV]  C=1.0, epsilon=0.01, gamma=0.01, score=-0.00021187500706099094, total=   0.3s\n",
      "[CV] C=1.0, epsilon=0.01, gamma=0.01 .................................\n",
      "[CV]  C=1.0, epsilon=0.01, gamma=0.01, score=0.003461162904678017, total=   0.3s\n",
      "[CV] C=1.0, epsilon=0.01, gamma=0.01 .................................\n",
      "[CV]  C=1.0, epsilon=0.01, gamma=0.01, score=-0.020200880712589298, total=   0.3s\n",
      "[CV] C=1.0, epsilon=0.01, gamma=0.1 ..................................\n",
      "[CV]  C=1.0, epsilon=0.01, gamma=0.1, score=0.0004995961687580541, total=   0.3s\n",
      "[CV] C=1.0, epsilon=0.01, gamma=0.1 ..................................\n",
      "[CV]  C=1.0, epsilon=0.01, gamma=0.1, score=0.0017847790563589874, total=   0.3s\n",
      "[CV] C=1.0, epsilon=0.01, gamma=0.1 ..................................\n",
      "[CV]  C=1.0, epsilon=0.01, gamma=0.1, score=-0.0032896271810625155, total=   0.3s\n",
      "[CV] C=1.0, epsilon=0.01, gamma=0.1 ..................................\n",
      "[CV]  C=1.0, epsilon=0.01, gamma=0.1, score=0.0012687666658316443, total=   0.3s\n",
      "[CV] C=1.0, epsilon=0.01, gamma=0.1 ..................................\n",
      "[CV]  C=1.0, epsilon=0.01, gamma=0.1, score=-0.02102119060755414, total=   0.3s\n",
      "[CV] C=1.0, epsilon=0.01, gamma=1.0 ..................................\n",
      "[CV]  C=1.0, epsilon=0.01, gamma=1.0, score=3.0584196373917294e-05, total=   0.3s\n",
      "[CV] C=1.0, epsilon=0.01, gamma=1.0 ..................................\n",
      "[CV]  C=1.0, epsilon=0.01, gamma=1.0, score=5.9618881512069066e-05, total=   0.3s\n",
      "[CV] C=1.0, epsilon=0.01, gamma=1.0 ..................................\n",
      "[CV]  C=1.0, epsilon=0.01, gamma=1.0, score=-0.0034772450783662197, total=   0.3s\n",
      "[CV] C=1.0, epsilon=0.01, gamma=1.0 ..................................\n",
      "[CV]  C=1.0, epsilon=0.01, gamma=1.0, score=0.0002128540086997477, total=   0.3s\n",
      "[CV] C=1.0, epsilon=0.01, gamma=1.0 ..................................\n",
      "[CV]  C=1.0, epsilon=0.01, gamma=1.0, score=-0.020321532270220377, total=   0.3s\n",
      "[CV] C=1.0, epsilon=0.01, gamma=10.0 .................................\n",
      "[CV]  C=1.0, epsilon=0.01, gamma=10.0, score=-8.761513989563596e-05, total=   0.3s\n",
      "[CV] C=1.0, epsilon=0.01, gamma=10.0 .................................\n",
      "[CV]  C=1.0, epsilon=0.01, gamma=10.0, score=-0.0006630365843833808, total=   0.3s\n",
      "[CV] C=1.0, epsilon=0.01, gamma=10.0 .................................\n",
      "[CV]  C=1.0, epsilon=0.01, gamma=10.0, score=-0.0035235939715991815, total=   0.3s\n",
      "[CV] C=1.0, epsilon=0.01, gamma=10.0 .................................\n",
      "[CV]  C=1.0, epsilon=0.01, gamma=10.0, score=-0.0006293966187966848, total=   0.3s\n",
      "[CV] C=1.0, epsilon=0.01, gamma=10.0 .................................\n",
      "[CV]  C=1.0, epsilon=0.01, gamma=10.0, score=-0.020139269588255626, total=   0.3s\n",
      "[CV] C=1.0, epsilon=0.01, gamma=100.0 ................................\n",
      "[CV]  C=1.0, epsilon=0.01, gamma=100.0, score=-8.761409971880241e-05, total=   0.3s\n",
      "[CV] C=1.0, epsilon=0.01, gamma=100.0 ................................\n",
      "[CV]  C=1.0, epsilon=0.01, gamma=100.0, score=-0.0006631361731901375, total=   0.3s\n",
      "[CV] C=1.0, epsilon=0.01, gamma=100.0 ................................\n",
      "[CV]  C=1.0, epsilon=0.01, gamma=100.0, score=-0.003523599573492797, total=   0.3s\n",
      "[CV] C=1.0, epsilon=0.01, gamma=100.0 ................................\n",
      "[CV]  C=1.0, epsilon=0.01, gamma=100.0, score=-0.0006295100509519092, total=   0.3s\n",
      "[CV] C=1.0, epsilon=0.01, gamma=100.0 ................................\n",
      "[CV]  C=1.0, epsilon=0.01, gamma=100.0, score=-0.020139251925075156, total=   0.3s\n",
      "[CV] C=1.0, epsilon=0.05, gamma=0.01 .................................\n",
      "[CV]  C=1.0, epsilon=0.05, gamma=0.01, score=0.004553744352243649, total=   0.2s\n",
      "[CV] C=1.0, epsilon=0.05, gamma=0.01 .................................\n",
      "[CV]  C=1.0, epsilon=0.05, gamma=0.01, score=0.002791275193601561, total=   0.2s\n",
      "[CV] C=1.0, epsilon=0.05, gamma=0.01 .................................\n",
      "[CV]  C=1.0, epsilon=0.05, gamma=0.01, score=0.00016860350090774912, total=   0.2s\n",
      "[CV] C=1.0, epsilon=0.05, gamma=0.01 .................................\n",
      "[CV]  C=1.0, epsilon=0.05, gamma=0.01, score=0.003053716844628074, total=   0.2s\n",
      "[CV] C=1.0, epsilon=0.05, gamma=0.01 .................................\n",
      "[CV]  C=1.0, epsilon=0.05, gamma=0.01, score=-0.02246485873365267, total=   0.2s\n",
      "[CV] C=1.0, epsilon=0.05, gamma=0.1 ..................................\n",
      "[CV]  C=1.0, epsilon=0.05, gamma=0.1, score=0.00035427583768354864, total=   0.2s\n",
      "[CV] C=1.0, epsilon=0.05, gamma=0.1 ..................................\n",
      "[CV]  C=1.0, epsilon=0.05, gamma=0.1, score=0.0016714782820669292, total=   0.2s\n",
      "[CV] C=1.0, epsilon=0.05, gamma=0.1 ..................................\n",
      "[CV]  C=1.0, epsilon=0.05, gamma=0.1, score=-0.0027477427548612265, total=   0.2s\n",
      "[CV] C=1.0, epsilon=0.05, gamma=0.1 ..................................\n",
      "[CV]  C=1.0, epsilon=0.05, gamma=0.1, score=0.0011885877307746817, total=   0.3s\n",
      "[CV] C=1.0, epsilon=0.05, gamma=0.1 ..................................\n",
      "[CV]  C=1.0, epsilon=0.05, gamma=0.1, score=-0.023125512086363376, total=   0.2s\n",
      "[CV] C=1.0, epsilon=0.05, gamma=1.0 ..................................\n",
      "[CV]  C=1.0, epsilon=0.05, gamma=1.0, score=-0.00010690646067401666, total=   0.2s\n",
      "[CV] C=1.0, epsilon=0.05, gamma=1.0 ..................................\n",
      "[CV]  C=1.0, epsilon=0.05, gamma=1.0, score=0.00016125988479009923, total=   0.2s\n",
      "[CV] C=1.0, epsilon=0.05, gamma=1.0 ..................................\n",
      "[CV]  C=1.0, epsilon=0.05, gamma=1.0, score=-0.0028912703425238995, total=   0.2s\n",
      "[CV] C=1.0, epsilon=0.05, gamma=1.0 ..................................\n",
      "[CV]  C=1.0, epsilon=0.05, gamma=1.0, score=0.0002511709504979809, total=   0.2s\n",
      "[CV] C=1.0, epsilon=0.05, gamma=1.0 ..................................\n",
      "[CV]  C=1.0, epsilon=0.05, gamma=1.0, score=-0.02249896410231389, total=   0.2s\n",
      "[CV] C=1.0, epsilon=0.05, gamma=10.0 .................................\n",
      "[CV]  C=1.0, epsilon=0.05, gamma=10.0, score=-0.00019592363907894317, total=   0.2s\n",
      "[CV] C=1.0, epsilon=0.05, gamma=10.0 .................................\n",
      "[CV]  C=1.0, epsilon=0.05, gamma=10.0, score=-0.0004316177148244726, total=   0.3s\n",
      "[CV] C=1.0, epsilon=0.05, gamma=10.0 .................................\n",
      "[CV]  C=1.0, epsilon=0.05, gamma=10.0, score=-0.0029276500836752373, total=   0.2s\n",
      "[CV] C=1.0, epsilon=0.05, gamma=10.0 .................................\n",
      "[CV]  C=1.0, epsilon=0.05, gamma=10.0, score=-0.0004625298560290148, total=   0.2s\n",
      "[CV] C=1.0, epsilon=0.05, gamma=10.0 .................................\n"
     ]
    }
   ],
   "source": [
    "svr.fit(X_train,y_train)"
   ]
  },
  {
   "cell_type": "code",
   "execution_count": null,
   "metadata": {},
   "outputs": [],
   "source": [
    "svr.best_params_"
   ]
  },
  {
   "cell_type": "code",
   "execution_count": null,
   "metadata": {},
   "outputs": [],
   "source": [
    "svr.best_score_"
   ]
  }
 ],
 "metadata": {
  "kernelspec": {
   "display_name": "Python 3",
   "language": "python",
   "name": "python3"
  }
 },
 "nbformat": 4,
 "nbformat_minor": 2
}
