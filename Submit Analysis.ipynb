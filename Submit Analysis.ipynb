{
 "cells": [
  {
   "cell_type": "code",
   "execution_count": 276,
   "metadata": {},
   "outputs": [],
   "source": [
    "import pandas as pd\n",
    "import numpy as np\n",
    "import seaborn as sns\n",
    "import datetime as dt\n",
    "import random as rn\n",
    "import matplotlib.pyplot as plt\n",
    "import sklearn\n",
    "from sklearn.feature_selection import chi2\n",
    "from sklearn import preprocessing\n",
    "from sklearn.preprocessing import OneHotEncoder\n",
    "from scipy import stats\n",
    "import math as math\n",
    "from sklearn.model_selection import train_test_split, GridSearchCV\n",
    "from sklearn import linear_model\n",
    "from sklearn.model_selection import cross_val_score\n",
    "from xgboost import XGBRegressor\n",
    "from sklearn.metrics import r2_score\n",
    "from sklearn.linear_model import Ridge, RidgeCV, Lasso, LassoCV\n",
    "from xgboost import XGBRegressor\n",
    "from sklearn.metrics import accuracy_score\n",
    "import math\n",
    "from sklearn.ensemble import RandomForestRegressor"
   ]
  },
  {
   "cell_type": "code",
   "execution_count": 302,
   "metadata": {},
   "outputs": [],
   "source": [
    "train = pd.read_csv('train.csv',index_col='Id')\n",
    "test = pd.read_csv('test.csv',index_col='Id')\n",
    "train['LogPrice'] = np.log(train.SalePrice)"
   ]
  },
  {
   "cell_type": "code",
   "execution_count": 303,
   "metadata": {},
   "outputs": [
    {
     "data": {
      "text/plain": [
       "160"
      ]
     },
     "execution_count": 303,
     "metadata": {},
     "output_type": "execute_result"
    }
   ],
   "source": [
    "train = pd.get_dummies(train)\n",
    "prices = list(train.SalePrice)\n",
    "log_prices = list(train.LogPrice)\n",
    "train = train.drop(columns=[\"SalePrice\",\"LogPrice\"])\n",
    "len(train.columns)"
   ]
  },
  {
   "cell_type": "code",
   "execution_count": 304,
   "metadata": {},
   "outputs": [
    {
     "data": {
      "text/plain": [
       "160"
      ]
     },
     "execution_count": 304,
     "metadata": {},
     "output_type": "execute_result"
    }
   ],
   "source": [
    "test = pd.read_csv('test.csv',index_col='Id')\n",
    "test = pd.get_dummies(test)\n",
    "len(test.columns)"
   ]
  },
  {
   "cell_type": "code",
   "execution_count": 216,
   "metadata": {},
   "outputs": [
    {
     "data": {
      "text/plain": [
       "[]"
      ]
     },
     "execution_count": 216,
     "metadata": {},
     "output_type": "execute_result"
    }
   ],
   "source": [
    "tr = list(train.columns)\n",
    "te = list(test.columns)\n",
    "def difference(list1, list2):\n",
    "    new_list = []\n",
    "    for i in list1:\n",
    "        if i not in list2:\n",
    "            new_list.append(i)\n",
    "\n",
    "    for j in list2:\n",
    "        if j not in list1:\n",
    "            new_list.append(j)\n",
    "    return new_list\n",
    "difference(te,tr)"
   ]
  },
  {
   "cell_type": "code",
   "execution_count": 305,
   "metadata": {},
   "outputs": [],
   "source": [
    "y = np.array(log_prices)\n",
    "X = np.array(train)\n",
    "Xtest = np.array(test)\n",
    "def rmse(predictions, targets):\n",
    "    return np.sqrt(((predictions - targets) ** 2).mean())"
   ]
  },
  {
   "cell_type": "code",
   "execution_count": 306,
   "metadata": {},
   "outputs": [],
   "source": [
    "X_train, X_test , y_train, y_test = train_test_split(X, y, test_size=0.2, random_state=0)"
   ]
  },
  {
   "cell_type": "code",
   "execution_count": 307,
   "metadata": {},
   "outputs": [
    {
     "name": "stdout",
     "output_type": "stream",
     "text": [
      "ridge rmse: 0.12684283156935225\n",
      "ridge score: 0.8959297263113811\n"
     ]
    }
   ],
   "source": [
    "X_train, X_test , y_train, y_test = train_test_split(X, y, test_size=0.2, random_state=0)\n",
    "n_alphas = 500\n",
    "alphas1 = np.logspace(-3, 3, n_alphas)\n",
    "ridgecv = RidgeCV(alphas=alphas1, scoring=None, normalize=True)\n",
    "ridgecv.fit(X_train, y_train)\n",
    "print(\"ridge rmse:\",rmse(ridgecv.predict(X_test),y_test))\n",
    "print(\"ridge score:\",ridgecv.score(X_test,y_test))"
   ]
  },
  {
   "cell_type": "code",
   "execution_count": 308,
   "metadata": {},
   "outputs": [
    {
     "name": "stdout",
     "output_type": "stream",
     "text": [
      "ridge rmse: 0.1619202064547562\n",
      "ridge score: 0.8304112896104244\n"
     ]
    }
   ],
   "source": [
    "X_train, X_test , y_train, y_test = train_test_split(X, y, test_size=0.2, random_state=0)\n",
    "lassocv = LassoCV(alphas=alphas1, normalize=True,cv=5)\n",
    "lassocv.fit(X_train, y_train)\n",
    "print(\"ridge rmse:\",rmse(lassocv.predict(X_test),y_test))\n",
    "print(\"ridge score:\",lassocv.score(X_test,y_test))"
   ]
  },
  {
   "cell_type": "code",
   "execution_count": 309,
   "metadata": {},
   "outputs": [
    {
     "name": "stdout",
     "output_type": "stream",
     "text": [
      "XGB rmse: 0.13045451375695694\n",
      "XGB score: 0.8899188239636696\n"
     ]
    }
   ],
   "source": [
    "X_train, X_test , y_train, y_test = train_test_split(X, y, test_size=0.2, random_state=0)\n",
    "XGB = XGBRegressor()\n",
    "XGB.fit(X_train, y_train)\n",
    "y_pred = XGB.predict(X_test)\n",
    "print(\"XGB rmse:\",rmse(y_pred,y_test))\n",
    "print(\"XGB score:\",XGB.score(X_test,y_test))"
   ]
  },
  {
   "cell_type": "code",
   "execution_count": 310,
   "metadata": {},
   "outputs": [],
   "source": [
    "# for test data set\n",
    "y_pred_test = list(XGB.predict(Xtest))\n",
    "df1 = pd.DataFrame(y_pred_test, columns=['SalePrice'])"
   ]
  },
  {
   "cell_type": "code",
   "execution_count": 248,
   "metadata": {},
   "outputs": [],
   "source": [
    "df1.to_csv('submit6.csv')"
   ]
  },
  {
   "cell_type": "code",
   "execution_count": 268,
   "metadata": {},
   "outputs": [],
   "source": [
    "params = {'gamma': [0.5],\n",
    "          'max_depth': [3],\n",
    "          'n_estimators': [155]}"
   ]
  },
  {
   "cell_type": "code",
   "execution_count": 311,
   "metadata": {},
   "outputs": [
    {
     "name": "stdout",
     "output_type": "stream",
     "text": [
      "XGB rmse: 0.14804079558758515\n",
      "XGB score: 0.8582387086750811\n"
     ]
    }
   ],
   "source": [
    "XGB = XGBRegressor()\n",
    "xgb = XGBRegressor(nthread=-1)\n",
    "grid = GridSearchCV(xgb, params,cv=5)\n",
    "grid.fit(X_train, y_train)\n",
    "y_pred2 = grid.predict(X_test)\n",
    "print(\"XGB rmse:\",rmse(y_pred2,y_test))\n",
    "print(\"XGB score:\",grid.score(X_test,y_test))"
   ]
  },
  {
   "cell_type": "code",
   "execution_count": 275,
   "metadata": {},
   "outputs": [],
   "source": [
    "y_pred_test1 = list(grid.predict(Xtest))\n",
    "df2 = pd.DataFrame(y_pred_test1, columns=['SalePrice'])\n",
    "df1.to_csv('submit7.csv')"
   ]
  },
  {
   "cell_type": "code",
   "execution_count": 225,
   "metadata": {},
   "outputs": [
    {
     "name": "stderr",
     "output_type": "stream",
     "text": [
      "C:\\Users\\trist\\Desktop\\CondaFile\\lib\\site-packages\\sklearn\\ensemble\\forest.py:248: FutureWarning: The default value of n_estimators will change from 10 in version 0.20 to 100 in 0.22.\n",
      "  \"10 in version 0.20 to 100 in 0.22.\", FutureWarning)\n"
     ]
    }
   ],
   "source": [
    "X_train, X_test , y_train, y_test = train_test_split(X, y, test_size=0.2, random_state=0)\n",
    "rf = RandomForestRegressor()\n",
    "rf.fit(X_train, y_train)\n",
    "y_pred = rf.predict(X_test)"
   ]
  },
  {
   "cell_type": "code",
   "execution_count": 226,
   "metadata": {},
   "outputs": [
    {
     "name": "stdout",
     "output_type": "stream",
     "text": [
      "random forest score: 0.8737573115650694\n",
      "random forest rmse: 26237.134952413115\n"
     ]
    }
   ],
   "source": [
    "print(\"random forest score:\",rf.score(X_test,y_test))\n",
    "print(\"random forest rmse:\",rmse(y_pred,y_test))"
   ]
  },
  {
   "cell_type": "code",
   "execution_count": 211,
   "metadata": {},
   "outputs": [],
   "source": [
    "y_pred = rf.predict(Xtest)\n",
    "y_pred1 = list(y_pred)\n",
    "pd1 = pd.DataFrame(y_pred1, columns=['SalePrice'])\n",
    "pd1.to_csv('submit4.csv')"
   ]
  },
  {
   "cell_type": "code",
   "execution_count": null,
   "metadata": {},
   "outputs": [],
   "source": []
  },
  {
   "cell_type": "code",
   "execution_count": null,
   "metadata": {},
   "outputs": [],
   "source": []
  }
 ],
 "metadata": {
  "kernelspec": {
   "display_name": "Python 3",
   "language": "python",
   "name": "python3"
  },
  "language_info": {
   "codemirror_mode": {
    "name": "ipython",
    "version": 3
   },
   "file_extension": ".py",
   "mimetype": "text/x-python",
   "name": "python",
   "nbconvert_exporter": "python",
   "pygments_lexer": "ipython3",
   "version": "3.7.0"
  }
 },
 "nbformat": 4,
 "nbformat_minor": 2
}
